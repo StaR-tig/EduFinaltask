{
 "cells": [
  {
   "cell_type": "code",
   "execution_count": 28,
   "id": "9d5312f4",
   "metadata": {},
   "outputs": [],
   "source": [
    "#импорт библиотек\n",
    "import os\n",
    "import numpy as np\n",
    "import pandas as pd\n",
    "import re\n",
    "import matplotlib.pyplot as plt\n",
    "import pickle\n",
    "\n",
    "import sklearn\n",
    "from sklearn import utils\n",
    "from sklearn.metrics import classification_report, confusion_matrix, ConfusionMatrixDisplay,mean_squared_error\n",
    "from sklearn.model_selection import train_test_split"
   ]
  },
  {
   "cell_type": "markdown",
   "id": "c0f79e9d",
   "metadata": {
    "heading_collapsed": true
   },
   "source": [
    "## Обработка полученного DataFrame"
   ]
  },
  {
   "cell_type": "code",
   "execution_count": 2,
   "id": "cc28380c",
   "metadata": {
    "hidden": true
   },
   "outputs": [
    {
     "name": "stdout",
     "output_type": "stream",
     "text": [
      "<class 'pandas.core.frame.DataFrame'>\n",
      "RangeIndex: 7246 entries, 0 to 7245\n",
      "Data columns (total 6 columns):\n",
      " #   Column     Non-Null Count  Dtype  \n",
      "---  ------     --------------  -----  \n",
      " 0   review_id  7246 non-null   int64  \n",
      " 1   date       5896 non-null   object \n",
      " 2   authority  7246 non-null   object \n",
      " 3   serv_name  7246 non-null   object \n",
      " 4   comment    7246 non-null   object \n",
      " 5   mscore     7246 non-null   float64\n",
      "dtypes: float64(1), int64(1), object(4)\n",
      "memory usage: 339.8+ KB\n"
     ]
    }
   ],
   "source": [
    "#загрузка DataFrame\n",
    "file_path = os.path.join('..', 'data', 'reviews.csv')#путь к файлу\n",
    "df = pd.read_csv(file_path)\n",
    "\n",
    "df.info()"
   ]
  },
  {
   "cell_type": "markdown",
   "id": "1d8b9c22",
   "metadata": {
    "hidden": true
   },
   "source": [
    "Расшифровка полей DataFrame:\n",
    "\n",
    "review_id - номер отзыва(по нему можно посмотреть заявление на сайте ВашКонтроль)\n",
    "\n",
    "date - дата оставления отзыва\n",
    "\n",
    "authority - орган валсти, оказывающий государственную услугу\n",
    "\n",
    "serv_name - название государственной услуги\n",
    "\n",
    "comment - кооментарий заявителя\n",
    "\n",
    "mscore - средняя оценка обращения\n",
    "\n",
    "\n",
    "В рамках проекта пердполагается, что отзывы оставленные со среденей оценкой равной 1 - негативные, а отзывы со средней оценкой 5 - позитивные"
   ]
  },
  {
   "cell_type": "code",
   "execution_count": 3,
   "id": "f0965a75",
   "metadata": {
    "hidden": true
   },
   "outputs": [
    {
     "data": {
      "text/plain": [
       "((3623, 6), (3623, 6))"
      ]
     },
     "execution_count": 3,
     "metadata": {},
     "output_type": "execute_result"
    }
   ],
   "source": [
    "#формирование двух выборок данных\n",
    "#негативная выборка\n",
    "df_neg = df[df.mscore==1.0]\n",
    "\n",
    "#позитивная выборка\n",
    "df_poz = df[df.mscore==5.0]\n",
    "\n",
    "#структура отобранных отзывов\n",
    "df_neg.shape, df_poz.shape"
   ]
  },
  {
   "cell_type": "markdown",
   "id": "68396694",
   "metadata": {
    "hidden": true
   },
   "source": [
    "Если использовать парсер, будет наблюдаться дисбаланс классов со значительным смещением в сторону позитивных оценок, поэтому случайным образом возьмем количество позитивных отзывов, равное количеству негативных"
   ]
  },
  {
   "cell_type": "code",
   "execution_count": 4,
   "id": "aa4394e3",
   "metadata": {
    "hidden": true
   },
   "outputs": [
    {
     "data": {
      "text/html": [
       "<div>\n",
       "<style scoped>\n",
       "    .dataframe tbody tr th:only-of-type {\n",
       "        vertical-align: middle;\n",
       "    }\n",
       "\n",
       "    .dataframe tbody tr th {\n",
       "        vertical-align: top;\n",
       "    }\n",
       "\n",
       "    .dataframe thead th {\n",
       "        text-align: right;\n",
       "    }\n",
       "</style>\n",
       "<table border=\"1\" class=\"dataframe\">\n",
       "  <thead>\n",
       "    <tr style=\"text-align: right;\">\n",
       "      <th></th>\n",
       "      <th>comment</th>\n",
       "      <th>y</th>\n",
       "    </tr>\n",
       "  </thead>\n",
       "  <tbody>\n",
       "    <tr>\n",
       "      <th>6258</th>\n",
       "      <td>Отвратительный сайт, при вводе корректных данн...</td>\n",
       "      <td>0</td>\n",
       "    </tr>\n",
       "    <tr>\n",
       "      <th>1789</th>\n",
       "      <td>Пришло уведомление о выполнении услуги - резул...</td>\n",
       "      <td>0</td>\n",
       "    </tr>\n",
       "    <tr>\n",
       "      <th>2009</th>\n",
       "      <td>Специалист просто отказывает в предоставлении ...</td>\n",
       "      <td>0</td>\n",
       "    </tr>\n",
       "    <tr>\n",
       "      <th>5355</th>\n",
       "      <td>СПАСИБО ЗА ПОМОЩЬ В ОТПРАВКЕ ЗАЯВЛЕНИЯ. ОЧЕНЬ ...</td>\n",
       "      <td>1</td>\n",
       "    </tr>\n",
       "    <tr>\n",
       "      <th>1194</th>\n",
       "      <td>Все отлично</td>\n",
       "      <td>1</td>\n",
       "    </tr>\n",
       "  </tbody>\n",
       "</table>\n",
       "</div>"
      ],
      "text/plain": [
       "                                                comment  y\n",
       "6258  Отвратительный сайт, при вводе корректных данн...  0\n",
       "1789  Пришло уведомление о выполнении услуги - резул...  0\n",
       "2009  Специалист просто отказывает в предоставлении ...  0\n",
       "5355  СПАСИБО ЗА ПОМОЩЬ В ОТПРАВКЕ ЗАЯВЛЕНИЯ. ОЧЕНЬ ...  1\n",
       "1194                                        Все отлично  1"
      ]
     },
     "execution_count": 4,
     "metadata": {},
     "output_type": "execute_result"
    }
   ],
   "source": [
    "#склеиваем таблицы и перемешиваем в случайном порядке\n",
    "df_poz = df_poz.sample(n=df_neg.shape[0], random_state=42)\n",
    "res_df = pd.concat([df_neg,df_poz])\n",
    "res_df = sklearn.utils.shuffle(res_df)\n",
    "\n",
    "#создание меток класса\n",
    "res_df['y'] = res_df['mscore'].map({1.0:0,5.0:1})\n",
    "res_df.head()\n",
    "\n",
    "#исходный датасет для начала работы с текстом\n",
    "dfm = res_df[['comment','y']]\n",
    "dfm.head()"
   ]
  },
  {
   "cell_type": "markdown",
   "id": "7faadf04",
   "metadata": {
    "heading_collapsed": true
   },
   "source": [
    "## Обработка текста комментариев"
   ]
  },
  {
   "cell_type": "code",
   "execution_count": 5,
   "id": "823d1dd3",
   "metadata": {
    "hidden": true
   },
   "outputs": [
    {
     "data": {
      "text/html": [
       "<div>\n",
       "<style scoped>\n",
       "    .dataframe tbody tr th:only-of-type {\n",
       "        vertical-align: middle;\n",
       "    }\n",
       "\n",
       "    .dataframe tbody tr th {\n",
       "        vertical-align: top;\n",
       "    }\n",
       "\n",
       "    .dataframe thead th {\n",
       "        text-align: right;\n",
       "    }\n",
       "</style>\n",
       "<table border=\"1\" class=\"dataframe\">\n",
       "  <thead>\n",
       "    <tr style=\"text-align: right;\">\n",
       "      <th></th>\n",
       "      <th>comment</th>\n",
       "      <th>y</th>\n",
       "    </tr>\n",
       "  </thead>\n",
       "  <tbody>\n",
       "    <tr>\n",
       "      <th>6258</th>\n",
       "      <td>отвратительный сайт при вводе корректных данны...</td>\n",
       "      <td>0</td>\n",
       "    </tr>\n",
       "    <tr>\n",
       "      <th>1789</th>\n",
       "      <td>пришло уведомление о выполнении услуги результ...</td>\n",
       "      <td>0</td>\n",
       "    </tr>\n",
       "    <tr>\n",
       "      <th>2009</th>\n",
       "      <td>специалист просто отказывает в предоставлении ...</td>\n",
       "      <td>0</td>\n",
       "    </tr>\n",
       "    <tr>\n",
       "      <th>5355</th>\n",
       "      <td>спасибо за помощь в отправке заявления очень х...</td>\n",
       "      <td>1</td>\n",
       "    </tr>\n",
       "    <tr>\n",
       "      <th>1194</th>\n",
       "      <td>все отлично</td>\n",
       "      <td>1</td>\n",
       "    </tr>\n",
       "  </tbody>\n",
       "</table>\n",
       "</div>"
      ],
      "text/plain": [
       "                                                comment  y\n",
       "6258  отвратительный сайт при вводе корректных данны...  0\n",
       "1789  пришло уведомление о выполнении услуги результ...  0\n",
       "2009  специалист просто отказывает в предоставлении ...  0\n",
       "5355  спасибо за помощь в отправке заявления очень х...  1\n",
       "1194                                        все отлично  1"
      ]
     },
     "execution_count": 5,
     "metadata": {},
     "output_type": "execute_result"
    }
   ],
   "source": [
    "#функция для очистки текста\n",
    "def preprocessing_text(text):\n",
    "    text = text.lower().replace('ё', 'е')\n",
    "    text = re.sub('((www\\.[^\\s]+)\\|(https?://[^\\s]+))', 'URL',text)\n",
    "    text = re.sub('[^a-zA-Za-яА-Я]+',' ', text)\n",
    "    text = re.sub(' +',' ', text)\n",
    "    \n",
    "    return text.strip()\n",
    "\n",
    "#очистка текста\n",
    "dfm = pd.DataFrame(data={'comment':dfm.comment.apply(lambda x : preprocessing_text(x)), 'y':dfm.y})\n",
    "dfm.head()"
   ]
  },
  {
   "cell_type": "markdown",
   "id": "5ffe9776",
   "metadata": {
    "heading_collapsed": true
   },
   "source": [
    "## Перевод в векторное пространство"
   ]
  },
  {
   "cell_type": "code",
   "execution_count": 6,
   "id": "7832f0bd",
   "metadata": {
    "hidden": true
   },
   "outputs": [
    {
     "name": "stderr",
     "output_type": "stream",
     "text": [
      "Some weights of the model checkpoint at cointegrated/rubert-tiny were not used when initializing BertModel: ['cls.predictions.transform.LayerNorm.bias', 'cls.predictions.decoder.weight', 'cls.seq_relationship.weight', 'cls.predictions.transform.dense.bias', 'cls.predictions.transform.dense.weight', 'cls.predictions.bias', 'cls.predictions.decoder.bias', 'cls.predictions.transform.LayerNorm.weight', 'cls.seq_relationship.bias']\n",
      "- This IS expected if you are initializing BertModel from the checkpoint of a model trained on another task or with another architecture (e.g. initializing a BertForSequenceClassification model from a BertForPreTraining model).\n",
      "- This IS NOT expected if you are initializing BertModel from the checkpoint of a model that you expect to be exactly identical (initializing a BertForSequenceClassification model from a BertForSequenceClassification model).\n"
     ]
    },
    {
     "name": "stdout",
     "output_type": "stream",
     "text": [
      "(312,)\n"
     ]
    }
   ],
   "source": [
    "import torch\n",
    "from transformers import AutoTokenizer, AutoModel\n",
    "\n",
    "#функция для создания эмбеддингов\n",
    "#здесь использовано уже готовое решение rubert-tiny(спасибо, cointegrated!):\n",
    "#https://huggingface.co/cointegrated/rubert-tiny?text=Миниатюрная+модель+для+%5BMASK%5D+разных+задач.\n",
    "\n",
    "tokenizer = AutoTokenizer.from_pretrained(\"cointegrated/rubert-tiny\")\n",
    "model = AutoModel.from_pretrained(\"cointegrated/rubert-tiny\")\n",
    "# model.cuda()  # uncomment it if you have a GPU\n",
    "\n",
    "def embed_bert_cls(text, model, tokenizer):\n",
    "    t = tokenizer(text, padding=True, truncation=True, return_tensors='pt')\n",
    "    with torch.no_grad():\n",
    "        model_output = model(**{k: v.to(model.device) for k, v in t.items()})\n",
    "    embeddings = model_output.last_hidden_state[:, 0, :]\n",
    "    embeddings = torch.nn.functional.normalize(embeddings)\n",
    "    return embeddings[0].cpu().numpy()\n",
    "\n",
    "print(embed_bert_cls('привет мир', model, tokenizer).shape)\n",
    "# (312,)"
   ]
  },
  {
   "cell_type": "code",
   "execution_count": 7,
   "id": "847366dd",
   "metadata": {
    "hidden": true
   },
   "outputs": [],
   "source": [
    "#добавление эмбеддингов\n",
    "dfm['X'] = dfm.comment.apply(lambda x : embed_bert_cls(x, model, tokenizer))\n",
    "dfm.head()\n",
    "\n",
    "#создание выборок для обучения\n",
    "X = np.stack(dfm.X, axis=0 )\n",
    "y = np.array(dfm.y)\n",
    "\n",
    "#разделение выборок на тестовую и тренировочную\n",
    "X_train,X_test, y_train, y_test = train_test_split(X,y, test_size=0.3,random_state=42)"
   ]
  },
  {
   "cell_type": "markdown",
   "id": "20b38fb5",
   "metadata": {},
   "source": [
    "## Выбор лучшего алгоритма классификации"
   ]
  },
  {
   "cell_type": "markdown",
   "id": "38bb1291",
   "metadata": {
    "heading_collapsed": true
   },
   "source": [
    "### KNN"
   ]
  },
  {
   "cell_type": "code",
   "execution_count": 9,
   "id": "bdde290b",
   "metadata": {
    "hidden": true
   },
   "outputs": [],
   "source": [
    "#импорт библиотек\n",
    "from sklearn.neighbors import KNeighborsClassifier\n",
    "\n",
    "#создание модели\n",
    "nn = 9 #количестов соседей(опытным путем (по значениям score и msqe)найдено число оптимальное число 9 соседей на данном наборе данных)\n",
    "knn = KNeighborsClassifier(nn).fit(X_train,y_train)\n",
    "knn_pred = knn.predict(X_test)"
   ]
  },
  {
   "cell_type": "code",
   "execution_count": 10,
   "id": "28006341",
   "metadata": {
    "hidden": true
   },
   "outputs": [
    {
     "data": {
      "text/plain": [
       "0.9438822447102115"
      ]
     },
     "execution_count": 10,
     "metadata": {},
     "output_type": "execute_result"
    }
   ],
   "source": [
    "knn.score(X_test,y_test)"
   ]
  },
  {
   "cell_type": "code",
   "execution_count": 11,
   "id": "acf5ee61",
   "metadata": {
    "hidden": true
   },
   "outputs": [
    {
     "name": "stdout",
     "output_type": "stream",
     "text": [
      "              precision    recall  f1-score   support\n",
      "\n",
      "           0       0.95      0.94      0.94      1049\n",
      "           1       0.94      0.95      0.95      1125\n",
      "\n",
      "    accuracy                           0.94      2174\n",
      "   macro avg       0.94      0.94      0.94      2174\n",
      "weighted avg       0.94      0.94      0.94      2174\n",
      "\n"
     ]
    }
   ],
   "source": [
    "print(classification_report(y_test,knn_pred))"
   ]
  },
  {
   "cell_type": "code",
   "execution_count": 12,
   "id": "4a814b4d",
   "metadata": {
    "hidden": true
   },
   "outputs": [
    {
     "data": {
      "text/plain": [
       "<sklearn.metrics._plot.confusion_matrix.ConfusionMatrixDisplay at 0x15c9857e910>"
      ]
     },
     "execution_count": 12,
     "metadata": {},
     "output_type": "execute_result"
    },
    {
     "data": {
      "image/png": "[encoded data removed]",
      "text/plain": [
       "<Figure size 640x480 with 2 Axes>"
      ]
     },
     "metadata": {},
     "output_type": "display_data"
    }
   ],
   "source": [
    "#confussion matrix\n",
    "cm_knn = confusion_matrix(y_test,knn_pred)\n",
    "cmd_knn = ConfusionMatrixDisplay(confusion_matrix=cm_knn)\n",
    "cmd_knn.plot()"
   ]
  },
  {
   "cell_type": "markdown",
   "id": "a8317297",
   "metadata": {
    "heading_collapsed": true
   },
   "source": [
    "### Random Forest"
   ]
  },
  {
   "cell_type": "code",
   "execution_count": 13,
   "id": "0946b9ad",
   "metadata": {
    "hidden": true
   },
   "outputs": [],
   "source": [
    "# импорт библиотек\n",
    "from sklearn.ensemble import RandomForestClassifier\n",
    "\n",
    "#создание модели\n",
    "rf = RandomForestClassifier(n_estimators=500,criterion='entropy',max_depth=30,random_state=42)\n",
    "rf.fit(X_train,y_train)\n",
    "rf_pred = rf.predict(X_test)"
   ]
  },
  {
   "cell_type": "code",
   "execution_count": 14,
   "id": "f62ea7b5",
   "metadata": {
    "hidden": true
   },
   "outputs": [
    {
     "data": {
      "text/plain": [
       "0.9388224471021159"
      ]
     },
     "execution_count": 14,
     "metadata": {},
     "output_type": "execute_result"
    }
   ],
   "source": [
    "rf.score(X_test,y_test)"
   ]
  },
  {
   "cell_type": "code",
   "execution_count": 15,
   "id": "5678c975",
   "metadata": {
    "hidden": true
   },
   "outputs": [
    {
     "name": "stdout",
     "output_type": "stream",
     "text": [
      "              precision    recall  f1-score   support\n",
      "\n",
      "           0       0.92      0.96      0.94      1049\n",
      "           1       0.96      0.92      0.94      1125\n",
      "\n",
      "    accuracy                           0.94      2174\n",
      "   macro avg       0.94      0.94      0.94      2174\n",
      "weighted avg       0.94      0.94      0.94      2174\n",
      "\n"
     ]
    }
   ],
   "source": [
    "print(classification_report(y_test,rf_pred))"
   ]
  },
  {
   "cell_type": "code",
   "execution_count": 16,
   "id": "583e83ff",
   "metadata": {
    "hidden": true
   },
   "outputs": [
    {
     "data": {
      "text/plain": [
       "<sklearn.metrics._plot.confusion_matrix.ConfusionMatrixDisplay at 0x15cb377bd00>"
      ]
     },
     "execution_count": 16,
     "metadata": {},
     "output_type": "execute_result"
    },
    {
     "data": {
      "image/png": "[encoded data removed]",
      "text/plain": [
       "<Figure size 640x480 with 2 Axes>"
      ]
     },
     "metadata": {},
     "output_type": "display_data"
    }
   ],
   "source": [
    "#confussion matrix\n",
    "cm_rf = confusion_matrix(y_test,rf_pred)\n",
    "cmd_rf = ConfusionMatrixDisplay(confusion_matrix=cm_rf)\n",
    "cmd_rf.plot()"
   ]
  },
  {
   "cell_type": "markdown",
   "id": "fc8b1344",
   "metadata": {
    "heading_collapsed": true
   },
   "source": [
    "### SVM"
   ]
  },
  {
   "cell_type": "code",
   "execution_count": 17,
   "id": "33391fdb",
   "metadata": {
    "hidden": true
   },
   "outputs": [],
   "source": [
    "#импорт библиотек\n",
    "from sklearn import svm\n",
    "\n",
    "#создание модели\n",
    "svc = svm.SVC().fit(X_train, y_train)\n",
    "svc_pred = svc.predict(X_test)"
   ]
  },
  {
   "cell_type": "code",
   "execution_count": 18,
   "id": "ce94151b",
   "metadata": {
    "hidden": true
   },
   "outputs": [
    {
     "data": {
      "text/plain": [
       "0.952161913523459"
      ]
     },
     "execution_count": 18,
     "metadata": {},
     "output_type": "execute_result"
    }
   ],
   "source": [
    "svc.score(X_test,y_test)"
   ]
  },
  {
   "cell_type": "code",
   "execution_count": 20,
   "id": "81c4a3c6",
   "metadata": {
    "hidden": true
   },
   "outputs": [
    {
     "name": "stdout",
     "output_type": "stream",
     "text": [
      "              precision    recall  f1-score   support\n",
      "\n",
      "           0       0.94      0.96      0.95      1049\n",
      "           1       0.97      0.94      0.95      1125\n",
      "\n",
      "    accuracy                           0.95      2174\n",
      "   macro avg       0.95      0.95      0.95      2174\n",
      "weighted avg       0.95      0.95      0.95      2174\n",
      "\n"
     ]
    }
   ],
   "source": [
    "print(classification_report(y_test,svc_pred))"
   ]
  },
  {
   "cell_type": "code",
   "execution_count": 21,
   "id": "238cbf49",
   "metadata": {
    "hidden": true
   },
   "outputs": [
    {
     "data": {
      "text/plain": [
       "<sklearn.metrics._plot.confusion_matrix.ConfusionMatrixDisplay at 0x15cb380aeb0>"
      ]
     },
     "execution_count": 21,
     "metadata": {},
     "output_type": "execute_result"
    },
    {
     "data": {
      "image/png": "[encoded data removed]",
      "text/plain": [
       "<Figure size 640x480 with 2 Axes>"
      ]
     },
     "metadata": {},
     "output_type": "display_data"
    }
   ],
   "source": [
    "#confussion matrix\n",
    "cm_svc = confusion_matrix(y_test,svc_pred)\n",
    "cmd_svc = ConfusionMatrixDisplay(confusion_matrix=cm_svc)\n",
    "cmd_svc.plot()"
   ]
  },
  {
   "cell_type": "markdown",
   "id": "f0a7d667",
   "metadata": {
    "heading_collapsed": true
   },
   "source": [
    "### Нейросеть"
   ]
  },
  {
   "cell_type": "code",
   "execution_count": null,
   "id": "828222af",
   "metadata": {
    "hidden": true
   },
   "outputs": [],
   "source": [
    "#импорт библиотек\n",
    "from tensorflow.keras import Sequential\n",
    "from tensorflow.keras.layers import Input,Dense,concatenate,Activation,Dropout,Conv1D,SpatialDropout1D,Conv2D\n",
    "from tensorflow.keras.models import Model\n",
    "from tensorflow.keras.layers import GlobalMaxPooling1D\n",
    "from tensorflow.keras.callbacks import ModelCheckpoint"
   ]
  },
  {
   "cell_type": "code",
   "execution_count": null,
   "id": "4eb52b13",
   "metadata": {
    "hidden": true
   },
   "outputs": [],
   "source": [
    "#Простая нейронная сеть\n",
    "NNmodel = Sequential()\n",
    "NNmodel.add(Dense(500,input_dim=X_train.shape[1],activation = 'relu'))\n",
    "NNmodel.add(Dropout(0.2))\n",
    "NNmodel.add(Dense(250,activation = 'relu'))\n",
    "NNmodel.add(Dropout(0.2))\n",
    "NNmodel.add(Dense(125,activation = 'relu'))\n",
    "NNmodel.add(Dropout(0.2))\n",
    "NNmodel.add(Dense(1,activation = 'sigmoid'))"
   ]
  },
  {
   "cell_type": "code",
   "execution_count": 23,
   "id": "68c5069f",
   "metadata": {
    "hidden": true
   },
   "outputs": [
    {
     "name": "stdout",
     "output_type": "stream",
     "text": [
      "Model: \"sequential\"\n",
      "_________________________________________________________________\n",
      " Layer (type)                Output Shape              Param #   \n",
      "=================================================================\n",
      " dense (Dense)               (None, 500)               156500    \n",
      "                                                                 \n",
      " dropout (Dropout)           (None, 500)               0         \n",
      "                                                                 \n",
      " dense_1 (Dense)             (None, 250)               125250    \n",
      "                                                                 \n",
      " dropout_1 (Dropout)         (None, 250)               0         \n",
      "                                                                 \n",
      " dense_2 (Dense)             (None, 125)               31375     \n",
      "                                                                 \n",
      " dropout_2 (Dropout)         (None, 125)               0         \n",
      "                                                                 \n",
      " dense_3 (Dense)             (None, 1)                 126       \n",
      "                                                                 \n",
      "=================================================================\n",
      "Total params: 313,251\n",
      "Trainable params: 313,251\n",
      "Non-trainable params: 0\n",
      "_________________________________________________________________\n"
     ]
    }
   ],
   "source": [
    "NNmodel.compile(loss=\"binary_crossentropy\", optimizer=\"adam\",metrics=[\"accuracy\"])\n",
    "NNmodel.summary()"
   ]
  },
  {
   "cell_type": "code",
   "execution_count": 22,
   "id": "5f1e580f",
   "metadata": {
    "hidden": true
   },
   "outputs": [
    {
     "name": "stdout",
     "output_type": "stream",
     "text": [
      "Model: \"sequential\"\n",
      "_________________________________________________________________\n",
      " Layer (type)                Output Shape              Param #   \n",
      "=================================================================\n",
      " dense (Dense)               (None, 500)               156500    \n",
      "                                                                 \n",
      " dropout (Dropout)           (None, 500)               0         \n",
      "                                                                 \n",
      " dense_1 (Dense)             (None, 250)               125250    \n",
      "                                                                 \n",
      " dropout_1 (Dropout)         (None, 250)               0         \n",
      "                                                                 \n",
      " dense_2 (Dense)             (None, 125)               31375     \n",
      "                                                                 \n",
      " dropout_2 (Dropout)         (None, 125)               0         \n",
      "                                                                 \n",
      " dense_3 (Dense)             (None, 1)                 126       \n",
      "                                                                 \n",
      "=================================================================\n",
      "Total params: 313,251\n",
      "Trainable params: 313,251\n",
      "Non-trainable params: 0\n",
      "_________________________________________________________________\n",
      "Epoch 1/30\n",
      "10/10 [==============================] - 1s 38ms/step - loss: 0.6101 - accuracy: 0.8200 - val_loss: 0.4580 - val_accuracy: 0.8636\n",
      "Epoch 2/30\n",
      "10/10 [==============================] - 0s 18ms/step - loss: 0.3066 - accuracy: 0.9167 - val_loss: 0.2286 - val_accuracy: 0.9137\n",
      "Epoch 3/30\n",
      "10/10 [==============================] - 0s 17ms/step - loss: 0.1708 - accuracy: 0.9400 - val_loss: 0.1950 - val_accuracy: 0.9225\n",
      "Epoch 4/30\n",
      "10/10 [==============================] - 0s 17ms/step - loss: 0.1486 - accuracy: 0.9433 - val_loss: 0.2456 - val_accuracy: 0.9116\n",
      "Epoch 5/30\n",
      "10/10 [==============================] - 0s 17ms/step - loss: 0.1119 - accuracy: 0.9533 - val_loss: 0.1964 - val_accuracy: 0.9262\n",
      "Epoch 6/30\n",
      "10/10 [==============================] - 0s 19ms/step - loss: 0.0867 - accuracy: 0.9767 - val_loss: 0.1991 - val_accuracy: 0.9296\n",
      "Epoch 7/30\n",
      "10/10 [==============================] - 0s 18ms/step - loss: 0.0737 - accuracy: 0.9867 - val_loss: 0.1992 - val_accuracy: 0.9315\n",
      "Epoch 8/30\n",
      "10/10 [==============================] - 0s 17ms/step - loss: 0.0552 - accuracy: 0.9867 - val_loss: 0.2061 - val_accuracy: 0.9346\n",
      "Epoch 9/30\n",
      "10/10 [==============================] - 0s 18ms/step - loss: 0.0494 - accuracy: 0.9867 - val_loss: 0.2300 - val_accuracy: 0.9279\n",
      "Epoch 10/30\n",
      "10/10 [==============================] - 0s 19ms/step - loss: 0.0321 - accuracy: 0.9933 - val_loss: 0.2243 - val_accuracy: 0.9338\n",
      "Epoch 11/30\n",
      "10/10 [==============================] - 0s 19ms/step - loss: 0.0281 - accuracy: 0.9967 - val_loss: 0.2356 - val_accuracy: 0.9327\n",
      "Epoch 12/30\n",
      "10/10 [==============================] - 0s 18ms/step - loss: 0.0291 - accuracy: 0.9967 - val_loss: 0.2589 - val_accuracy: 0.9319\n",
      "Epoch 13/30\n",
      "10/10 [==============================] - 0s 18ms/step - loss: 0.0228 - accuracy: 0.9967 - val_loss: 0.2707 - val_accuracy: 0.9319\n",
      "Epoch 14/30\n",
      "10/10 [==============================] - 0s 18ms/step - loss: 0.0195 - accuracy: 0.9967 - val_loss: 0.2767 - val_accuracy: 0.9315\n",
      "Epoch 15/30\n",
      "10/10 [==============================] - 0s 18ms/step - loss: 0.0216 - accuracy: 0.9967 - val_loss: 0.2938 - val_accuracy: 0.9296\n",
      "Epoch 16/30\n",
      "10/10 [==============================] - 0s 20ms/step - loss: 0.0216 - accuracy: 0.9967 - val_loss: 0.3001 - val_accuracy: 0.9313\n",
      "Epoch 17/30\n",
      "10/10 [==============================] - 0s 19ms/step - loss: 0.0157 - accuracy: 0.9967 - val_loss: 0.3071 - val_accuracy: 0.9294\n",
      "Epoch 18/30\n",
      "10/10 [==============================] - 0s 18ms/step - loss: 0.0155 - accuracy: 0.9967 - val_loss: 0.3195 - val_accuracy: 0.9300\n",
      "Epoch 19/30\n",
      "10/10 [==============================] - 0s 18ms/step - loss: 0.0191 - accuracy: 0.9967 - val_loss: 0.3268 - val_accuracy: 0.9306\n",
      "Epoch 20/30\n",
      "10/10 [==============================] - 0s 18ms/step - loss: 0.0172 - accuracy: 0.9967 - val_loss: 0.3191 - val_accuracy: 0.9315\n",
      "Epoch 21/30\n",
      "10/10 [==============================] - 0s 17ms/step - loss: 0.0179 - accuracy: 0.9967 - val_loss: 0.3351 - val_accuracy: 0.9304\n",
      "Epoch 22/30\n",
      "10/10 [==============================] - 0s 17ms/step - loss: 0.0155 - accuracy: 0.9967 - val_loss: 0.3409 - val_accuracy: 0.9285\n",
      "Epoch 23/30\n",
      "10/10 [==============================] - 0s 17ms/step - loss: 0.0139 - accuracy: 0.9967 - val_loss: 0.3471 - val_accuracy: 0.9292\n",
      "Epoch 24/30\n",
      "10/10 [==============================] - 0s 18ms/step - loss: 0.0140 - accuracy: 0.9967 - val_loss: 0.3401 - val_accuracy: 0.9315\n",
      "Epoch 25/30\n",
      "10/10 [==============================] - 0s 18ms/step - loss: 0.0153 - accuracy: 0.9967 - val_loss: 0.3671 - val_accuracy: 0.9290\n",
      "Epoch 26/30\n",
      "10/10 [==============================] - 0s 18ms/step - loss: 0.0149 - accuracy: 0.9967 - val_loss: 0.3726 - val_accuracy: 0.9283\n",
      "Epoch 27/30\n",
      "10/10 [==============================] - 0s 17ms/step - loss: 0.0149 - accuracy: 0.9967 - val_loss: 0.3556 - val_accuracy: 0.9334\n",
      "Epoch 28/30\n",
      "10/10 [==============================] - 0s 17ms/step - loss: 0.0157 - accuracy: 0.9967 - val_loss: 0.3741 - val_accuracy: 0.9302\n",
      "Epoch 29/30\n",
      "10/10 [==============================] - 0s 17ms/step - loss: 0.0149 - accuracy: 0.9967 - val_loss: 0.3978 - val_accuracy: 0.9277\n",
      "Epoch 30/30\n",
      "10/10 [==============================] - 0s 17ms/step - loss: 0.0144 - accuracy: 0.9967 - val_loss: 0.3687 - val_accuracy: 0.9315\n"
     ]
    },
    {
     "data": {
      "image/png": "[encoded data removed]",
      "text/plain": [
       "<Figure size 640x480 with 1 Axes>"
      ]
     },
     "metadata": {},
     "output_type": "display_data"
    }
   ],
   "source": [
    "n = 300\n",
    "history = NNmodel.fit(X_train[:n],y_train[:n],\n",
    "                     batch_size=30,\n",
    "                     epochs=30,\n",
    "                     validation_data=(X_train[n:],y_train[n:]),\n",
    "                     verbose=1)\n",
    "plt.plot(history.history['accuracy'],label = 'Точность train')\n",
    "plt.plot(history.history['val_accuracy'], label = \"Точность test\")\n",
    "plt.xlabel('эпоха')\n",
    "plt.ylabel('точность')\n",
    "plt.legend()\n",
    "plt.show()"
   ]
  },
  {
   "cell_type": "markdown",
   "id": "b1486629",
   "metadata": {},
   "source": [
    "## Выбор и сохранние модели"
   ]
  },
  {
   "cell_type": "markdown",
   "id": "f92bf1bf",
   "metadata": {},
   "source": [
    "В целом, точность моделей находится приблизительно на одном уровне - 94%, поэтому выбор модели в текущих параметрах - дело вкуса. Для финальной реализации я выбрал KNN, хотя с тем же успехом мог выбрать и другие. Конечно, если занятся точной настройкой, можно повысить точность, но сейчас этого не требуется."
   ]
  },
  {
   "cell_type": "code",
   "execution_count": 29,
   "id": "1dae8444",
   "metadata": {},
   "outputs": [],
   "source": [
    "#сохранение модели через pickle\n",
    "save_path = os.path.join('..','model','KNN_9_model.pkl')\n",
    "knnPickle = open(save_path, 'wb') \n",
    "      \n",
    "# сохранение\n",
    "pickle.dump(knn, knnPickle)  \n",
    "\n",
    "# закрытие файла\n",
    "knnPickle.close()              \n",
    "      \n",
    "# загрузка моедли для проверки\n",
    "loaded_knn_model = pickle.load(open(save_path, 'rb'))\n",
    "\n",
    "#выгрузка требований\n",
    "!pip freeze > requirements.txt"
   ]
  }
 ],
 "metadata": {
  "kernelspec": {
   "display_name": "Python 3 (ipykernel)",
   "language": "python",
   "name": "python3"
  },
  "language_info": {
   "codemirror_mode": {
    "name": "ipython",
    "version": 3
   },
   "file_extension": ".py",
   "mimetype": "text/x-python",
   "name": "python",
   "nbconvert_exporter": "python",
   "pygments_lexer": "ipython3",
   "version": "3.9.13"
  }
 },
 "nbformat": 4,
 "nbformat_minor": 5
}
